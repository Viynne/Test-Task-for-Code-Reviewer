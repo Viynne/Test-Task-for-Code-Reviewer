{
 "cells": [
  {
   "cell_type": "markdown",
   "metadata": {},
   "source": [
    "## Task 1 - 1 hour"
   ]
  },
  {
   "cell_type": "code",
   "execution_count": 1,
   "metadata": {},
   "outputs": [],
   "source": [
    "# import libraries\n",
    "\n",
    "import numpy as np\n",
    "import pandas as pd"
   ]
  },
  {
   "cell_type": "markdown",
   "metadata": {},
   "source": [
    "### 1.1. Download the data set movie_metadata.csv, which contains data about films from IMDb (Internet Movie Database)."
   ]
  },
  {
   "cell_type": "code",
   "execution_count": 2,
   "metadata": {},
   "outputs": [
    {
     "data": {
      "text/html": [
       "<div>\n",
       "<style scoped>\n",
       "    .dataframe tbody tr th:only-of-type {\n",
       "        vertical-align: middle;\n",
       "    }\n",
       "\n",
       "    .dataframe tbody tr th {\n",
       "        vertical-align: top;\n",
       "    }\n",
       "\n",
       "    .dataframe thead th {\n",
       "        text-align: right;\n",
       "    }\n",
       "</style>\n",
       "<table border=\"1\" class=\"dataframe\">\n",
       "  <thead>\n",
       "    <tr style=\"text-align: right;\">\n",
       "      <th></th>\n",
       "      <th>color</th>\n",
       "      <th>director_name</th>\n",
       "      <th>num_critic_for_reviews</th>\n",
       "      <th>duration</th>\n",
       "      <th>director_facebook_likes</th>\n",
       "      <th>actor_3_facebook_likes</th>\n",
       "      <th>actor_2_name</th>\n",
       "      <th>actor_1_facebook_likes</th>\n",
       "      <th>gross</th>\n",
       "      <th>genres</th>\n",
       "      <th>...</th>\n",
       "      <th>num_user_for_reviews</th>\n",
       "      <th>language</th>\n",
       "      <th>country</th>\n",
       "      <th>content_rating</th>\n",
       "      <th>budget</th>\n",
       "      <th>title_year</th>\n",
       "      <th>actor_2_facebook_likes</th>\n",
       "      <th>imdb_score</th>\n",
       "      <th>aspect_ratio</th>\n",
       "      <th>movie_facebook_likes</th>\n",
       "    </tr>\n",
       "  </thead>\n",
       "  <tbody>\n",
       "    <tr>\n",
       "      <th>0</th>\n",
       "      <td>Color</td>\n",
       "      <td>James Cameron</td>\n",
       "      <td>723.0</td>\n",
       "      <td>178.0</td>\n",
       "      <td>0.0</td>\n",
       "      <td>855.0</td>\n",
       "      <td>Joel David Moore</td>\n",
       "      <td>1000.0</td>\n",
       "      <td>760505847.0</td>\n",
       "      <td>Action|Adventure|Fantasy|Sci-Fi</td>\n",
       "      <td>...</td>\n",
       "      <td>3054.0</td>\n",
       "      <td>English</td>\n",
       "      <td>USA</td>\n",
       "      <td>PG-13</td>\n",
       "      <td>237000000.0$</td>\n",
       "      <td>2009.0</td>\n",
       "      <td>936.0</td>\n",
       "      <td>7.9</td>\n",
       "      <td>1.78</td>\n",
       "      <td>33000</td>\n",
       "    </tr>\n",
       "    <tr>\n",
       "      <th>1</th>\n",
       "      <td>Color</td>\n",
       "      <td>Gore Verbinski</td>\n",
       "      <td>302.0</td>\n",
       "      <td>169.0</td>\n",
       "      <td>563.0</td>\n",
       "      <td>1000.0</td>\n",
       "      <td>Orlando Bloom</td>\n",
       "      <td>40000.0</td>\n",
       "      <td>309404152.0</td>\n",
       "      <td>Action|Adventure|Fantasy</td>\n",
       "      <td>...</td>\n",
       "      <td>1238.0</td>\n",
       "      <td>English</td>\n",
       "      <td>USA</td>\n",
       "      <td>PG-13</td>\n",
       "      <td>300000000.0$</td>\n",
       "      <td>2007.0</td>\n",
       "      <td>5000.0</td>\n",
       "      <td>7.1</td>\n",
       "      <td>2.35</td>\n",
       "      <td>0</td>\n",
       "    </tr>\n",
       "    <tr>\n",
       "      <th>2</th>\n",
       "      <td>Color</td>\n",
       "      <td>Sam Mendes</td>\n",
       "      <td>602.0</td>\n",
       "      <td>148.0</td>\n",
       "      <td>0.0</td>\n",
       "      <td>161.0</td>\n",
       "      <td>Rory Kinnear</td>\n",
       "      <td>11000.0</td>\n",
       "      <td>200074175.0</td>\n",
       "      <td>Action|Adventure|Thriller</td>\n",
       "      <td>...</td>\n",
       "      <td>994.0</td>\n",
       "      <td>English</td>\n",
       "      <td>UK</td>\n",
       "      <td>PG-13</td>\n",
       "      <td>245000000.0$</td>\n",
       "      <td>2015.0</td>\n",
       "      <td>393.0</td>\n",
       "      <td>6.8</td>\n",
       "      <td>2.35</td>\n",
       "      <td>85000</td>\n",
       "    </tr>\n",
       "    <tr>\n",
       "      <th>3</th>\n",
       "      <td>Color</td>\n",
       "      <td>Christopher Nolan</td>\n",
       "      <td>813.0</td>\n",
       "      <td>164.0</td>\n",
       "      <td>22000.0</td>\n",
       "      <td>23000.0</td>\n",
       "      <td>Christian Bale</td>\n",
       "      <td>27000.0</td>\n",
       "      <td>448130642.0</td>\n",
       "      <td>Action|Thriller</td>\n",
       "      <td>...</td>\n",
       "      <td>2701.0</td>\n",
       "      <td>English</td>\n",
       "      <td>USA</td>\n",
       "      <td>PG-13</td>\n",
       "      <td>250000000.0$</td>\n",
       "      <td>2012.0</td>\n",
       "      <td>23000.0</td>\n",
       "      <td>8.5</td>\n",
       "      <td>2.35</td>\n",
       "      <td>164000</td>\n",
       "    </tr>\n",
       "    <tr>\n",
       "      <th>4</th>\n",
       "      <td>NaN</td>\n",
       "      <td>Doug Walker</td>\n",
       "      <td>NaN</td>\n",
       "      <td>NaN</td>\n",
       "      <td>131.0</td>\n",
       "      <td>NaN</td>\n",
       "      <td>Rob Walker</td>\n",
       "      <td>131.0</td>\n",
       "      <td>NaN</td>\n",
       "      <td>Documentary</td>\n",
       "      <td>...</td>\n",
       "      <td>NaN</td>\n",
       "      <td>NaN</td>\n",
       "      <td>NaN</td>\n",
       "      <td>NaN</td>\n",
       "      <td>0.0$</td>\n",
       "      <td>NaN</td>\n",
       "      <td>12.0</td>\n",
       "      <td>7.1</td>\n",
       "      <td>NaN</td>\n",
       "      <td>0</td>\n",
       "    </tr>\n",
       "  </tbody>\n",
       "</table>\n",
       "<p>5 rows × 28 columns</p>\n",
       "</div>"
      ],
      "text/plain": [
       "   color      director_name  num_critic_for_reviews  duration  \\\n",
       "0  Color      James Cameron                   723.0     178.0   \n",
       "1  Color     Gore Verbinski                   302.0     169.0   \n",
       "2  Color         Sam Mendes                   602.0     148.0   \n",
       "3  Color  Christopher Nolan                   813.0     164.0   \n",
       "4    NaN        Doug Walker                     NaN       NaN   \n",
       "\n",
       "   director_facebook_likes  actor_3_facebook_likes      actor_2_name  \\\n",
       "0                      0.0                   855.0  Joel David Moore   \n",
       "1                    563.0                  1000.0     Orlando Bloom   \n",
       "2                      0.0                   161.0      Rory Kinnear   \n",
       "3                  22000.0                 23000.0    Christian Bale   \n",
       "4                    131.0                     NaN        Rob Walker   \n",
       "\n",
       "   actor_1_facebook_likes        gross                           genres  ...  \\\n",
       "0                  1000.0  760505847.0  Action|Adventure|Fantasy|Sci-Fi  ...   \n",
       "1                 40000.0  309404152.0         Action|Adventure|Fantasy  ...   \n",
       "2                 11000.0  200074175.0        Action|Adventure|Thriller  ...   \n",
       "3                 27000.0  448130642.0                  Action|Thriller  ...   \n",
       "4                   131.0          NaN                      Documentary  ...   \n",
       "\n",
       "  num_user_for_reviews language  country  content_rating        budget  \\\n",
       "0               3054.0  English      USA           PG-13  237000000.0$   \n",
       "1               1238.0  English      USA           PG-13  300000000.0$   \n",
       "2                994.0  English       UK           PG-13  245000000.0$   \n",
       "3               2701.0  English      USA           PG-13  250000000.0$   \n",
       "4                  NaN      NaN      NaN             NaN          0.0$   \n",
       "\n",
       "   title_year actor_2_facebook_likes imdb_score  aspect_ratio  \\\n",
       "0      2009.0                  936.0        7.9          1.78   \n",
       "1      2007.0                 5000.0        7.1          2.35   \n",
       "2      2015.0                  393.0        6.8          2.35   \n",
       "3      2012.0                23000.0        8.5          2.35   \n",
       "4         NaN                   12.0        7.1           NaN   \n",
       "\n",
       "  movie_facebook_likes  \n",
       "0                33000  \n",
       "1                    0  \n",
       "2                85000  \n",
       "3               164000  \n",
       "4                    0  \n",
       "\n",
       "[5 rows x 28 columns]"
      ]
     },
     "execution_count": 2,
     "metadata": {},
     "output_type": "execute_result"
    }
   ],
   "source": [
    "# read csv file into dataframe\n",
    "df = pd.read_csv(\"./data/movie_metadata.csv\")\n",
    "df.head()"
   ]
  },
  {
   "cell_type": "code",
   "execution_count": 3,
   "metadata": {},
   "outputs": [
    {
     "name": "stdout",
     "output_type": "stream",
     "text": [
      "<class 'pandas.core.frame.DataFrame'>\n",
      "RangeIndex: 5043 entries, 0 to 5042\n",
      "Data columns (total 28 columns):\n",
      " #   Column                     Non-Null Count  Dtype  \n",
      "---  ------                     --------------  -----  \n",
      " 0   color                      5024 non-null   object \n",
      " 1   director_name              4939 non-null   object \n",
      " 2   num_critic_for_reviews     4993 non-null   float64\n",
      " 3   duration                   5028 non-null   float64\n",
      " 4   director_facebook_likes    4939 non-null   float64\n",
      " 5   actor_3_facebook_likes     5020 non-null   float64\n",
      " 6   actor_2_name               5030 non-null   object \n",
      " 7   actor_1_facebook_likes     5036 non-null   float64\n",
      " 8   gross                      4159 non-null   float64\n",
      " 9   genres                     5043 non-null   object \n",
      " 10  actor_1_name               5036 non-null   object \n",
      " 11  movie_title                5043 non-null   object \n",
      " 12  num_voted_users            5043 non-null   int64  \n",
      " 13  cast_total_facebook_likes  5043 non-null   int64  \n",
      " 14  actor_3_name               5020 non-null   object \n",
      " 15  facenumber_in_poster       5030 non-null   float64\n",
      " 16  plot_keywords              4890 non-null   object \n",
      " 17  movie_imdb_link            5043 non-null   object \n",
      " 18  num_user_for_reviews       5022 non-null   float64\n",
      " 19  language                   5031 non-null   object \n",
      " 20  country                    5038 non-null   object \n",
      " 21  content_rating             4740 non-null   object \n",
      " 22  budget                     5043 non-null   object \n",
      " 23  title_year                 4935 non-null   float64\n",
      " 24  actor_2_facebook_likes     5030 non-null   float64\n",
      " 25  imdb_score                 5043 non-null   float64\n",
      " 26  aspect_ratio               4714 non-null   float64\n",
      " 27  movie_facebook_likes       5043 non-null   int64  \n",
      "dtypes: float64(12), int64(3), object(13)\n",
      "memory usage: 1.1+ MB\n"
     ]
    }
   ],
   "source": [
    "df.info()"
   ]
  },
  {
   "cell_type": "markdown",
   "metadata": {},
   "source": [
    "### 1.2. The duration column contains data on the film length. How many missing values are there in this column?\n",
    "\n",
    "15 Missing Values"
   ]
  },
  {
   "cell_type": "code",
   "execution_count": 4,
   "metadata": {},
   "outputs": [
    {
     "data": {
      "text/plain": [
       "False    5028\n",
       "True       15\n",
       "Name: duration, dtype: int64"
      ]
     },
     "execution_count": 4,
     "metadata": {},
     "output_type": "execute_result"
    }
   ],
   "source": [
    "# Finding missing values using .isnull() method\n",
    "duration_null = df.duration.isnull()\n",
    "duration_null.value_counts()"
   ]
  },
  {
   "cell_type": "markdown",
   "metadata": {},
   "source": [
    "### 1.3. Replace the missing values in the duration column with the median value for this column."
   ]
  },
  {
   "cell_type": "code",
   "execution_count": 5,
   "metadata": {},
   "outputs": [],
   "source": [
    "median_duration = df.duration.median()\n",
    "df.duration.fillna(median_duration, inplace=True)"
   ]
  },
  {
   "cell_type": "markdown",
   "metadata": {},
   "source": [
    "### 1.4. What is the average film length? Give the answer as a floating-point figure rounded to two decimal places."
   ]
  },
  {
   "cell_type": "code",
   "execution_count": 6,
   "metadata": {},
   "outputs": [
    {
     "data": {
      "text/plain": [
       "107.19"
      ]
     },
     "execution_count": 6,
     "metadata": {},
     "output_type": "execute_result"
    }
   ],
   "source": [
    "average_duration = round(df.duration.mean(),2)\n",
    "average_duration"
   ]
  },
  {
   "cell_type": "markdown",
   "metadata": {},
   "source": [
    "### 1.5. Create a movie_duration_category column, which will contain three categories depending on the film length:\n",
    "• Category \"1. <90\" if the film is less than 90 minutes long\n",
    "\n",
    "• Category \"2. 90–120\" if the film is between 90 minutes and two hours long (inclusively)\n",
    "\n",
    "• Category \"3. >120\" if the film is more than two hours long"
   ]
  },
  {
   "cell_type": "code",
   "execution_count": 7,
   "metadata": {},
   "outputs": [],
   "source": [
    "# Defining a function to categorise each duration\n",
    "def new_duration_category(df: pd.DataFrame):\n",
    "    new_values = []\n",
    "    for d in df.duration.to_list():\n",
    "        if d < 90:\n",
    "            new_values.append(\"<90\")\n",
    "        elif d >= 90 and d <= 120:\n",
    "            new_values.append(\"90-120\")\n",
    "        else:\n",
    "            new_values.append(\">120\")\n",
    "    return new_values"
   ]
  },
  {
   "cell_type": "code",
   "execution_count": 8,
   "metadata": {},
   "outputs": [],
   "source": [
    "# Creating new category\n",
    "df[\"duration_category\"] = new_duration_category(df)"
   ]
  },
  {
   "cell_type": "markdown",
   "metadata": {},
   "source": [
    "### 1.6. Build a summary table for films released after 2000 (inclusively), to list the numbers of films:\n",
    "• Table rows: year\n",
    "\n",
    "• Table columns: movie duration category (\"<90\", \"90–120\", \">120\")\n",
    "\n",
    "• The year of release should be displayed in the YYYY format."
   ]
  },
  {
   "cell_type": "code",
   "execution_count": 9,
   "metadata": {},
   "outputs": [],
   "source": [
    "# Setting title year as a pandas datetime object YYYY\n",
    "df[\"title_year_all\"] = pd.to_datetime(df[\"title_year\"], format=\"%Y\")\n",
    "df[\"title_year\"] = df.title_year_all.dt.year"
   ]
  },
  {
   "cell_type": "code",
   "execution_count": 12,
   "metadata": {},
   "outputs": [
    {
     "data": {
      "text/html": [
       "<div>\n",
       "<style scoped>\n",
       "    .dataframe tbody tr th:only-of-type {\n",
       "        vertical-align: middle;\n",
       "    }\n",
       "\n",
       "    .dataframe tbody tr th {\n",
       "        vertical-align: top;\n",
       "    }\n",
       "\n",
       "    .dataframe thead th {\n",
       "        text-align: right;\n",
       "    }\n",
       "</style>\n",
       "<table border=\"1\" class=\"dataframe\">\n",
       "  <thead>\n",
       "    <tr style=\"text-align: right;\">\n",
       "      <th></th>\n",
       "      <th>color</th>\n",
       "      <th>director_name</th>\n",
       "      <th>num_critic_for_reviews</th>\n",
       "      <th>duration</th>\n",
       "      <th>director_facebook_likes</th>\n",
       "      <th>actor_3_facebook_likes</th>\n",
       "      <th>actor_2_name</th>\n",
       "      <th>actor_1_facebook_likes</th>\n",
       "      <th>gross</th>\n",
       "      <th>genres</th>\n",
       "      <th>...</th>\n",
       "      <th>country</th>\n",
       "      <th>content_rating</th>\n",
       "      <th>budget</th>\n",
       "      <th>title_year</th>\n",
       "      <th>actor_2_facebook_likes</th>\n",
       "      <th>imdb_score</th>\n",
       "      <th>aspect_ratio</th>\n",
       "      <th>movie_facebook_likes</th>\n",
       "      <th>duration_category</th>\n",
       "      <th>title_year_all</th>\n",
       "    </tr>\n",
       "  </thead>\n",
       "  <tbody>\n",
       "    <tr>\n",
       "      <th>count</th>\n",
       "      <td>3583</td>\n",
       "      <td>3597</td>\n",
       "      <td>3559.000000</td>\n",
       "      <td>3597.000000</td>\n",
       "      <td>3597.000000</td>\n",
       "      <td>3581.000000</td>\n",
       "      <td>3587</td>\n",
       "      <td>3590.000000</td>\n",
       "      <td>3.070000e+03</td>\n",
       "      <td>3597</td>\n",
       "      <td>...</td>\n",
       "      <td>3596</td>\n",
       "      <td>3358</td>\n",
       "      <td>3597</td>\n",
       "      <td>3597.000000</td>\n",
       "      <td>3587.000000</td>\n",
       "      <td>3597.000000</td>\n",
       "      <td>3320.000000</td>\n",
       "      <td>3597.000000</td>\n",
       "      <td>3597</td>\n",
       "      <td>3597</td>\n",
       "    </tr>\n",
       "    <tr>\n",
       "      <th>unique</th>\n",
       "      <td>2</td>\n",
       "      <td>1982</td>\n",
       "      <td>NaN</td>\n",
       "      <td>NaN</td>\n",
       "      <td>NaN</td>\n",
       "      <td>NaN</td>\n",
       "      <td>2296</td>\n",
       "      <td>NaN</td>\n",
       "      <td>NaN</td>\n",
       "      <td>733</td>\n",
       "      <td>...</td>\n",
       "      <td>60</td>\n",
       "      <td>10</td>\n",
       "      <td>349</td>\n",
       "      <td>NaN</td>\n",
       "      <td>NaN</td>\n",
       "      <td>NaN</td>\n",
       "      <td>NaN</td>\n",
       "      <td>NaN</td>\n",
       "      <td>3</td>\n",
       "      <td>NaN</td>\n",
       "    </tr>\n",
       "    <tr>\n",
       "      <th>top</th>\n",
       "      <td>Color</td>\n",
       "      <td>Steven Soderbergh</td>\n",
       "      <td>NaN</td>\n",
       "      <td>NaN</td>\n",
       "      <td>NaN</td>\n",
       "      <td>NaN</td>\n",
       "      <td>Morgan Freeman</td>\n",
       "      <td>NaN</td>\n",
       "      <td>NaN</td>\n",
       "      <td>Drama</td>\n",
       "      <td>...</td>\n",
       "      <td>USA</td>\n",
       "      <td>R</td>\n",
       "      <td>0.0$</td>\n",
       "      <td>NaN</td>\n",
       "      <td>NaN</td>\n",
       "      <td>NaN</td>\n",
       "      <td>NaN</td>\n",
       "      <td>NaN</td>\n",
       "      <td>90-120</td>\n",
       "      <td>NaN</td>\n",
       "    </tr>\n",
       "    <tr>\n",
       "      <th>freq</th>\n",
       "      <td>3492</td>\n",
       "      <td>13</td>\n",
       "      <td>NaN</td>\n",
       "      <td>NaN</td>\n",
       "      <td>NaN</td>\n",
       "      <td>NaN</td>\n",
       "      <td>13</td>\n",
       "      <td>NaN</td>\n",
       "      <td>NaN</td>\n",
       "      <td>170</td>\n",
       "      <td>...</td>\n",
       "      <td>2660</td>\n",
       "      <td>1468</td>\n",
       "      <td>335</td>\n",
       "      <td>NaN</td>\n",
       "      <td>NaN</td>\n",
       "      <td>NaN</td>\n",
       "      <td>NaN</td>\n",
       "      <td>NaN</td>\n",
       "      <td>2384</td>\n",
       "      <td>NaN</td>\n",
       "    </tr>\n",
       "    <tr>\n",
       "      <th>mean</th>\n",
       "      <td>NaN</td>\n",
       "      <td>NaN</td>\n",
       "      <td>164.099747</td>\n",
       "      <td>106.326105</td>\n",
       "      <td>560.721435</td>\n",
       "      <td>724.050824</td>\n",
       "      <td>NaN</td>\n",
       "      <td>7201.938440</td>\n",
       "      <td>4.884831e+07</td>\n",
       "      <td>NaN</td>\n",
       "      <td>...</td>\n",
       "      <td>NaN</td>\n",
       "      <td>NaN</td>\n",
       "      <td>NaN</td>\n",
       "      <td>2008.117320</td>\n",
       "      <td>1844.585169</td>\n",
       "      <td>6.311732</td>\n",
       "      <td>2.184666</td>\n",
       "      <td>9431.330275</td>\n",
       "      <td>NaN</td>\n",
       "      <td>2008-02-13 05:26:16.313594624</td>\n",
       "    </tr>\n",
       "    <tr>\n",
       "      <th>min</th>\n",
       "      <td>NaN</td>\n",
       "      <td>NaN</td>\n",
       "      <td>1.000000</td>\n",
       "      <td>7.000000</td>\n",
       "      <td>0.000000</td>\n",
       "      <td>0.000000</td>\n",
       "      <td>NaN</td>\n",
       "      <td>0.000000</td>\n",
       "      <td>1.620000e+02</td>\n",
       "      <td>NaN</td>\n",
       "      <td>...</td>\n",
       "      <td>NaN</td>\n",
       "      <td>NaN</td>\n",
       "      <td>NaN</td>\n",
       "      <td>2000.000000</td>\n",
       "      <td>0.000000</td>\n",
       "      <td>1.600000</td>\n",
       "      <td>1.330000</td>\n",
       "      <td>0.000000</td>\n",
       "      <td>NaN</td>\n",
       "      <td>2000-01-01 00:00:00</td>\n",
       "    </tr>\n",
       "    <tr>\n",
       "      <th>25%</th>\n",
       "      <td>NaN</td>\n",
       "      <td>NaN</td>\n",
       "      <td>65.000000</td>\n",
       "      <td>93.000000</td>\n",
       "      <td>7.000000</td>\n",
       "      <td>131.000000</td>\n",
       "      <td>NaN</td>\n",
       "      <td>629.250000</td>\n",
       "      <td>4.436326e+06</td>\n",
       "      <td>NaN</td>\n",
       "      <td>...</td>\n",
       "      <td>NaN</td>\n",
       "      <td>NaN</td>\n",
       "      <td>NaN</td>\n",
       "      <td>2004.000000</td>\n",
       "      <td>290.500000</td>\n",
       "      <td>5.700000</td>\n",
       "      <td>1.850000</td>\n",
       "      <td>0.000000</td>\n",
       "      <td>NaN</td>\n",
       "      <td>2004-01-01 00:00:00</td>\n",
       "    </tr>\n",
       "    <tr>\n",
       "      <th>50%</th>\n",
       "      <td>NaN</td>\n",
       "      <td>NaN</td>\n",
       "      <td>138.000000</td>\n",
       "      <td>103.000000</td>\n",
       "      <td>46.000000</td>\n",
       "      <td>392.000000</td>\n",
       "      <td>NaN</td>\n",
       "      <td>1000.000000</td>\n",
       "      <td>2.499434e+07</td>\n",
       "      <td>NaN</td>\n",
       "      <td>...</td>\n",
       "      <td>NaN</td>\n",
       "      <td>NaN</td>\n",
       "      <td>NaN</td>\n",
       "      <td>2008.000000</td>\n",
       "      <td>625.000000</td>\n",
       "      <td>6.400000</td>\n",
       "      <td>2.350000</td>\n",
       "      <td>233.000000</td>\n",
       "      <td>NaN</td>\n",
       "      <td>2008-01-01 00:00:00</td>\n",
       "    </tr>\n",
       "    <tr>\n",
       "      <th>75%</th>\n",
       "      <td>NaN</td>\n",
       "      <td>NaN</td>\n",
       "      <td>230.000000</td>\n",
       "      <td>116.000000</td>\n",
       "      <td>180.000000</td>\n",
       "      <td>655.000000</td>\n",
       "      <td>NaN</td>\n",
       "      <td>12000.000000</td>\n",
       "      <td>6.123895e+07</td>\n",
       "      <td>NaN</td>\n",
       "      <td>...</td>\n",
       "      <td>NaN</td>\n",
       "      <td>NaN</td>\n",
       "      <td>NaN</td>\n",
       "      <td>2012.000000</td>\n",
       "      <td>953.500000</td>\n",
       "      <td>7.100000</td>\n",
       "      <td>2.350000</td>\n",
       "      <td>11000.000000</td>\n",
       "      <td>NaN</td>\n",
       "      <td>2012-01-01 00:00:00</td>\n",
       "    </tr>\n",
       "    <tr>\n",
       "      <th>max</th>\n",
       "      <td>NaN</td>\n",
       "      <td>NaN</td>\n",
       "      <td>813.000000</td>\n",
       "      <td>300.000000</td>\n",
       "      <td>23000.000000</td>\n",
       "      <td>23000.000000</td>\n",
       "      <td>NaN</td>\n",
       "      <td>640000.000000</td>\n",
       "      <td>7.605058e+08</td>\n",
       "      <td>NaN</td>\n",
       "      <td>...</td>\n",
       "      <td>NaN</td>\n",
       "      <td>NaN</td>\n",
       "      <td>NaN</td>\n",
       "      <td>2016.000000</td>\n",
       "      <td>137000.000000</td>\n",
       "      <td>9.100000</td>\n",
       "      <td>16.000000</td>\n",
       "      <td>349000.000000</td>\n",
       "      <td>NaN</td>\n",
       "      <td>2016-01-01 00:00:00</td>\n",
       "    </tr>\n",
       "    <tr>\n",
       "      <th>std</th>\n",
       "      <td>NaN</td>\n",
       "      <td>NaN</td>\n",
       "      <td>131.142289</td>\n",
       "      <td>20.084571</td>\n",
       "      <td>2528.497778</td>\n",
       "      <td>1890.474136</td>\n",
       "      <td>NaN</td>\n",
       "      <td>16923.476267</td>\n",
       "      <td>7.088449e+07</td>\n",
       "      <td>NaN</td>\n",
       "      <td>...</td>\n",
       "      <td>NaN</td>\n",
       "      <td>NaN</td>\n",
       "      <td>NaN</td>\n",
       "      <td>4.658066</td>\n",
       "      <td>4432.766853</td>\n",
       "      <td>1.113708</td>\n",
       "      <td>0.905221</td>\n",
       "      <td>22050.100208</td>\n",
       "      <td>NaN</td>\n",
       "      <td>NaN</td>\n",
       "    </tr>\n",
       "  </tbody>\n",
       "</table>\n",
       "<p>11 rows × 30 columns</p>\n",
       "</div>"
      ],
      "text/plain": [
       "        color      director_name  num_critic_for_reviews     duration  \\\n",
       "count    3583               3597             3559.000000  3597.000000   \n",
       "unique      2               1982                     NaN          NaN   \n",
       "top     Color  Steven Soderbergh                     NaN          NaN   \n",
       "freq     3492                 13                     NaN          NaN   \n",
       "mean      NaN                NaN              164.099747   106.326105   \n",
       "min       NaN                NaN                1.000000     7.000000   \n",
       "25%       NaN                NaN               65.000000    93.000000   \n",
       "50%       NaN                NaN              138.000000   103.000000   \n",
       "75%       NaN                NaN              230.000000   116.000000   \n",
       "max       NaN                NaN              813.000000   300.000000   \n",
       "std       NaN                NaN              131.142289    20.084571   \n",
       "\n",
       "        director_facebook_likes  actor_3_facebook_likes    actor_2_name  \\\n",
       "count               3597.000000             3581.000000            3587   \n",
       "unique                      NaN                     NaN            2296   \n",
       "top                         NaN                     NaN  Morgan Freeman   \n",
       "freq                        NaN                     NaN              13   \n",
       "mean                 560.721435              724.050824             NaN   \n",
       "min                    0.000000                0.000000             NaN   \n",
       "25%                    7.000000              131.000000             NaN   \n",
       "50%                   46.000000              392.000000             NaN   \n",
       "75%                  180.000000              655.000000             NaN   \n",
       "max                23000.000000            23000.000000             NaN   \n",
       "std                 2528.497778             1890.474136             NaN   \n",
       "\n",
       "        actor_1_facebook_likes         gross genres  ... country  \\\n",
       "count              3590.000000  3.070000e+03   3597  ...    3596   \n",
       "unique                     NaN           NaN    733  ...      60   \n",
       "top                        NaN           NaN  Drama  ...     USA   \n",
       "freq                       NaN           NaN    170  ...    2660   \n",
       "mean               7201.938440  4.884831e+07    NaN  ...     NaN   \n",
       "min                   0.000000  1.620000e+02    NaN  ...     NaN   \n",
       "25%                 629.250000  4.436326e+06    NaN  ...     NaN   \n",
       "50%                1000.000000  2.499434e+07    NaN  ...     NaN   \n",
       "75%               12000.000000  6.123895e+07    NaN  ...     NaN   \n",
       "max              640000.000000  7.605058e+08    NaN  ...     NaN   \n",
       "std               16923.476267  7.088449e+07    NaN  ...     NaN   \n",
       "\n",
       "       content_rating  budget   title_year actor_2_facebook_likes  \\\n",
       "count            3358    3597  3597.000000            3587.000000   \n",
       "unique             10     349          NaN                    NaN   \n",
       "top                 R    0.0$          NaN                    NaN   \n",
       "freq             1468     335          NaN                    NaN   \n",
       "mean              NaN     NaN  2008.117320            1844.585169   \n",
       "min               NaN     NaN  2000.000000               0.000000   \n",
       "25%               NaN     NaN  2004.000000             290.500000   \n",
       "50%               NaN     NaN  2008.000000             625.000000   \n",
       "75%               NaN     NaN  2012.000000             953.500000   \n",
       "max               NaN     NaN  2016.000000          137000.000000   \n",
       "std               NaN     NaN     4.658066            4432.766853   \n",
       "\n",
       "         imdb_score aspect_ratio movie_facebook_likes  duration_category  \\\n",
       "count   3597.000000  3320.000000          3597.000000               3597   \n",
       "unique          NaN          NaN                  NaN                  3   \n",
       "top             NaN          NaN                  NaN             90-120   \n",
       "freq            NaN          NaN                  NaN               2384   \n",
       "mean       6.311732     2.184666          9431.330275                NaN   \n",
       "min        1.600000     1.330000             0.000000                NaN   \n",
       "25%        5.700000     1.850000             0.000000                NaN   \n",
       "50%        6.400000     2.350000           233.000000                NaN   \n",
       "75%        7.100000     2.350000         11000.000000                NaN   \n",
       "max        9.100000    16.000000        349000.000000                NaN   \n",
       "std        1.113708     0.905221         22050.100208                NaN   \n",
       "\n",
       "                       title_year_all  \n",
       "count                            3597  \n",
       "unique                            NaN  \n",
       "top                               NaN  \n",
       "freq                              NaN  \n",
       "mean    2008-02-13 05:26:16.313594624  \n",
       "min               2000-01-01 00:00:00  \n",
       "25%               2004-01-01 00:00:00  \n",
       "50%               2008-01-01 00:00:00  \n",
       "75%               2012-01-01 00:00:00  \n",
       "max               2016-01-01 00:00:00  \n",
       "std                               NaN  \n",
       "\n",
       "[11 rows x 30 columns]"
      ]
     },
     "execution_count": 12,
     "metadata": {},
     "output_type": "execute_result"
    }
   ],
   "source": [
    "df[df[\"title_year\"] >= 2000].describe(include=\"all\", datetime_is_numeric=True)"
   ]
  },
  {
   "cell_type": "markdown",
   "metadata": {},
   "source": [
    "### 1.7. How many films between 90 minutes and two hours long were released in 2008?"
   ]
  },
  {
   "cell_type": "code",
   "execution_count": 11,
   "metadata": {},
   "outputs": [],
   "source": [
    "df_ge_2000 = df[df[\"title_year\"] >= 2000]"
   ]
  },
  {
   "cell_type": "code",
   "execution_count": 16,
   "metadata": {},
   "outputs": [
    {
     "data": {
      "text/plain": [
       "90-120    1338\n",
       ">120       354\n",
       "<90        290\n",
       "Name: duration_category, dtype: int64"
      ]
     },
     "execution_count": 16,
     "metadata": {},
     "output_type": "execute_result"
    }
   ],
   "source": [
    "df[df[\"title_year\"] >= 2008][\"duration_category\"].value_counts()"
   ]
  },
  {
   "cell_type": "markdown",
   "metadata": {},
   "source": [
    "### Answer is 1338 films"
   ]
  },
  {
   "cell_type": "markdown",
   "metadata": {},
   "source": [
    "### 1.8. The plot_keywords column holds keywords characterizing the film's plot. Using the data in this column, create a column called movie_plot_category, to contain four categories depending on the key words in the column:\n",
    "• Category \"love_and_death\" if the keywords include both \"love\" and \"death\"\n",
    "\n",
    "• Category \"love\" if the keywords include the word \"love\"\n",
    "\n",
    "• Category \"death\" if the keywords include the word \"death\"\n",
    "\n",
    "• Category \"other\" if the keywords do not meet the conditions above"
   ]
  },
  {
   "cell_type": "code",
   "execution_count": 13,
   "metadata": {},
   "outputs": [],
   "source": [
    "# classify plot_keywords into specified category using a function call\n",
    "def new_plot_category(df: pd.DataFrame):\n",
    "    new_values = []\n",
    "    for d in df.plot_keywords.to_list():\n",
    "        try:\n",
    "            if \"love\" in d and \"death\" in d:\n",
    "                new_values.append(\"love_and_death\")\n",
    "            elif \"love\" in d:\n",
    "                new_values.append(\"love\")\n",
    "            elif \"death\" in d:\n",
    "                new_values.append(\"death\")\n",
    "            else:\n",
    "                new_values.append(\"other\")\n",
    "                \n",
    "        except TypeError:\n",
    "            new_values.append(\"other\")\n",
    "            continue\n",
    "    return new_values"
   ]
  },
  {
   "cell_type": "code",
   "execution_count": 14,
   "metadata": {},
   "outputs": [],
   "source": [
    "df[\"movie_plot_category\"] = new_plot_category(df)"
   ]
  },
  {
   "cell_type": "code",
   "execution_count": 15,
   "metadata": {},
   "outputs": [],
   "source": [
    "imdb_rating_avg = df.groupby(\"movie_plot_category\")[\"imdb_score\"].mean()"
   ]
  },
  {
   "cell_type": "markdown",
   "metadata": {},
   "source": [
    "### 1.9. The imdb_score column shows a viewer rating for the film. Build a table to reflect the average rating of films depending on which movie_plot_category category they belong to."
   ]
  },
  {
   "cell_type": "code",
   "execution_count": 16,
   "metadata": {},
   "outputs": [
    {
     "data": {
      "text/plain": [
       "movie_plot_category\n",
       "death             6.535465\n",
       "love              6.580769\n",
       "love_and_death    6.506250\n",
       "other             6.431422\n",
       "Name: imdb_score, dtype: float64"
      ]
     },
     "execution_count": 16,
     "metadata": {},
     "output_type": "execute_result"
    }
   ],
   "source": [
    "imdb_rating_avg"
   ]
  },
  {
   "cell_type": "markdown",
   "metadata": {},
   "source": [
    "### 1.10. What is the average rating of films in the \"love\" category? Give the answer as a floating point figure rounded to two decimal places."
   ]
  },
  {
   "cell_type": "code",
   "execution_count": 34,
   "metadata": {},
   "outputs": [
    {
     "data": {
      "text/plain": [
       "6.58"
      ]
     },
     "execution_count": 34,
     "metadata": {},
     "output_type": "execute_result"
    }
   ],
   "source": [
    "round(imdb_rating_avg.love, 2)"
   ]
  },
  {
   "cell_type": "markdown",
   "metadata": {},
   "source": [
    "### answer is 6.58"
   ]
  },
  {
   "cell_type": "markdown",
   "metadata": {},
   "source": [
    "### 1.11. The budget column contains the film's budget. What is the median budget for all the films listed? Give the answer as an integer."
   ]
  },
  {
   "cell_type": "code",
   "execution_count": 17,
   "metadata": {},
   "outputs": [
    {
     "name": "stderr",
     "output_type": "stream",
     "text": [
      "/tmp/ipykernel_33527/3626028471.py:2: SettingWithCopyWarning: \n",
      "A value is trying to be set on a copy of a slice from a DataFrame\n",
      "\n",
      "See the caveats in the documentation: https://pandas.pydata.org/pandas-docs/stable/user_guide/indexing.html#returning-a-view-versus-a-copy\n",
      "  df[\"budget\"][i] = d[:-3]\n"
     ]
    }
   ],
   "source": [
    "# slicing data values in budget column to find the median\n",
    "for i, d in df.budget.items():\n",
    "    df[\"budget\"][i] = d[:-3]"
   ]
  },
  {
   "cell_type": "code",
   "execution_count": 18,
   "metadata": {},
   "outputs": [
    {
     "data": {
      "text/plain": [
       "15000000"
      ]
     },
     "execution_count": 18,
     "metadata": {},
     "output_type": "execute_result"
    }
   ],
   "source": [
    "median_budget = int(df.budget.median())\n",
    "median_budget"
   ]
  },
  {
   "cell_type": "markdown",
   "metadata": {},
   "source": [
    "### Answer is $15,000,000"
   ]
  },
  {
   "cell_type": "markdown",
   "metadata": {},
   "source": [
    "## Task 2 > 3 hours"
   ]
  },
  {
   "cell_type": "markdown",
   "metadata": {},
   "source": [
    "### 1. Download the event_data.csv dataset, which contains data on the use of the mobile application of users who registered from July 29 to September 1, 2019:\n",
    "• user_id - user identifier;\n",
    "\n",
    "• event_date - time of the event;\n",
    "\n",
    "• event_type - type of event: registration - registration in the application; \n",
    "simple_event - click event in the application; purchase - an event of purchase within the application; purchase_amount - purchase amount."
   ]
  },
  {
   "cell_type": "code",
   "execution_count": 20,
   "metadata": {},
   "outputs": [
    {
     "data": {
      "text/html": [
       "<div>\n",
       "<style scoped>\n",
       "    .dataframe tbody tr th:only-of-type {\n",
       "        vertical-align: middle;\n",
       "    }\n",
       "\n",
       "    .dataframe tbody tr th {\n",
       "        vertical-align: top;\n",
       "    }\n",
       "\n",
       "    .dataframe thead th {\n",
       "        text-align: right;\n",
       "    }\n",
       "</style>\n",
       "<table border=\"1\" class=\"dataframe\">\n",
       "  <thead>\n",
       "    <tr style=\"text-align: right;\">\n",
       "      <th></th>\n",
       "      <th>user_id</th>\n",
       "      <th>event_date</th>\n",
       "      <th>event_type</th>\n",
       "      <th>purchase_amount</th>\n",
       "    </tr>\n",
       "  </thead>\n",
       "  <tbody>\n",
       "    <tr>\n",
       "      <th>0</th>\n",
       "      <td>c40e6a</td>\n",
       "      <td>2019-07-29 00:02:15</td>\n",
       "      <td>registration</td>\n",
       "      <td>NaN</td>\n",
       "    </tr>\n",
       "    <tr>\n",
       "      <th>1</th>\n",
       "      <td>a2b682</td>\n",
       "      <td>2019-07-29 00:04:46</td>\n",
       "      <td>registration</td>\n",
       "      <td>NaN</td>\n",
       "    </tr>\n",
       "    <tr>\n",
       "      <th>2</th>\n",
       "      <td>9ac888</td>\n",
       "      <td>2019-07-29 00:13:22</td>\n",
       "      <td>registration</td>\n",
       "      <td>NaN</td>\n",
       "    </tr>\n",
       "    <tr>\n",
       "      <th>3</th>\n",
       "      <td>93ff22</td>\n",
       "      <td>2019-07-29 00:16:47</td>\n",
       "      <td>registration</td>\n",
       "      <td>NaN</td>\n",
       "    </tr>\n",
       "    <tr>\n",
       "      <th>4</th>\n",
       "      <td>65ef85</td>\n",
       "      <td>2019-07-29 00:19:23</td>\n",
       "      <td>registration</td>\n",
       "      <td>NaN</td>\n",
       "    </tr>\n",
       "  </tbody>\n",
       "</table>\n",
       "</div>"
      ],
      "text/plain": [
       "  user_id           event_date    event_type  purchase_amount\n",
       "0  c40e6a  2019-07-29 00:02:15  registration              NaN\n",
       "1  a2b682  2019-07-29 00:04:46  registration              NaN\n",
       "2  9ac888  2019-07-29 00:13:22  registration              NaN\n",
       "3  93ff22  2019-07-29 00:16:47  registration              NaN\n",
       "4  65ef85  2019-07-29 00:19:23  registration              NaN"
      ]
     },
     "execution_count": 20,
     "metadata": {},
     "output_type": "execute_result"
    }
   ],
   "source": [
    "# Read csv file\n",
    "dfe = pd.read_csv(\"./data/event_data.csv\")\n",
    "dfe.head()"
   ]
  },
  {
   "cell_type": "markdown",
   "metadata": {},
   "source": [
    "### 2. Highlight user cohorts based on the week of registration in the application. The cohort identifier should be the week ordinal (for example, the week from July 29 to August 4 should have identifier 31)."
   ]
  },
  {
   "cell_type": "code",
   "execution_count": 21,
   "metadata": {},
   "outputs": [],
   "source": [
    "# Highlighting the registration week as a cohort identifier\n",
    "dfe[\"event_date\"] = pd.to_datetime(dfe[\"event_date\"], infer_datetime_format=True)\n",
    "dfe[\"week\"] = dfe[\"event_date\"].dt.isocalendar().week"
   ]
  },
  {
   "cell_type": "code",
   "execution_count": 23,
   "metadata": {},
   "outputs": [
    {
     "data": {
      "text/html": [
       "<div>\n",
       "<style scoped>\n",
       "    .dataframe tbody tr th:only-of-type {\n",
       "        vertical-align: middle;\n",
       "    }\n",
       "\n",
       "    .dataframe tbody tr th {\n",
       "        vertical-align: top;\n",
       "    }\n",
       "\n",
       "    .dataframe thead th {\n",
       "        text-align: right;\n",
       "    }\n",
       "</style>\n",
       "<table border=\"1\" class=\"dataframe\">\n",
       "  <thead>\n",
       "    <tr style=\"text-align: right;\">\n",
       "      <th></th>\n",
       "      <th>user_id</th>\n",
       "      <th>event_date</th>\n",
       "      <th>event_type</th>\n",
       "      <th>purchase_amount</th>\n",
       "      <th>week</th>\n",
       "    </tr>\n",
       "  </thead>\n",
       "  <tbody>\n",
       "    <tr>\n",
       "      <th>0</th>\n",
       "      <td>c40e6a</td>\n",
       "      <td>2019-07-29 00:02:15</td>\n",
       "      <td>registration</td>\n",
       "      <td>NaN</td>\n",
       "      <td>31</td>\n",
       "    </tr>\n",
       "    <tr>\n",
       "      <th>1</th>\n",
       "      <td>a2b682</td>\n",
       "      <td>2019-07-29 00:04:46</td>\n",
       "      <td>registration</td>\n",
       "      <td>NaN</td>\n",
       "      <td>31</td>\n",
       "    </tr>\n",
       "    <tr>\n",
       "      <th>2</th>\n",
       "      <td>9ac888</td>\n",
       "      <td>2019-07-29 00:13:22</td>\n",
       "      <td>registration</td>\n",
       "      <td>NaN</td>\n",
       "      <td>31</td>\n",
       "    </tr>\n",
       "    <tr>\n",
       "      <th>3</th>\n",
       "      <td>93ff22</td>\n",
       "      <td>2019-07-29 00:16:47</td>\n",
       "      <td>registration</td>\n",
       "      <td>NaN</td>\n",
       "      <td>31</td>\n",
       "    </tr>\n",
       "    <tr>\n",
       "      <th>4</th>\n",
       "      <td>65ef85</td>\n",
       "      <td>2019-07-29 00:19:23</td>\n",
       "      <td>registration</td>\n",
       "      <td>NaN</td>\n",
       "      <td>31</td>\n",
       "    </tr>\n",
       "    <tr>\n",
       "      <th>5</th>\n",
       "      <td>90852e</td>\n",
       "      <td>2019-07-29 00:21:16</td>\n",
       "      <td>registration</td>\n",
       "      <td>NaN</td>\n",
       "      <td>31</td>\n",
       "    </tr>\n",
       "    <tr>\n",
       "      <th>6</th>\n",
       "      <td>357151</td>\n",
       "      <td>2019-07-29 00:25:53</td>\n",
       "      <td>registration</td>\n",
       "      <td>NaN</td>\n",
       "      <td>31</td>\n",
       "    </tr>\n",
       "    <tr>\n",
       "      <th>7</th>\n",
       "      <td>71ac11</td>\n",
       "      <td>2019-07-29 00:28:51</td>\n",
       "      <td>registration</td>\n",
       "      <td>NaN</td>\n",
       "      <td>31</td>\n",
       "    </tr>\n",
       "    <tr>\n",
       "      <th>8</th>\n",
       "      <td>af679d</td>\n",
       "      <td>2019-07-29 00:30:46</td>\n",
       "      <td>registration</td>\n",
       "      <td>NaN</td>\n",
       "      <td>31</td>\n",
       "    </tr>\n",
       "    <tr>\n",
       "      <th>9</th>\n",
       "      <td>a48f29</td>\n",
       "      <td>2019-07-29 00:41:54</td>\n",
       "      <td>registration</td>\n",
       "      <td>NaN</td>\n",
       "      <td>31</td>\n",
       "    </tr>\n",
       "    <tr>\n",
       "      <th>10</th>\n",
       "      <td>b65930</td>\n",
       "      <td>2019-07-29 00:47:22</td>\n",
       "      <td>registration</td>\n",
       "      <td>NaN</td>\n",
       "      <td>31</td>\n",
       "    </tr>\n",
       "    <tr>\n",
       "      <th>11</th>\n",
       "      <td>956ad6</td>\n",
       "      <td>2019-07-29 00:54:13</td>\n",
       "      <td>registration</td>\n",
       "      <td>NaN</td>\n",
       "      <td>31</td>\n",
       "    </tr>\n",
       "    <tr>\n",
       "      <th>12</th>\n",
       "      <td>8aa5b4</td>\n",
       "      <td>2019-07-29 00:58:22</td>\n",
       "      <td>registration</td>\n",
       "      <td>NaN</td>\n",
       "      <td>31</td>\n",
       "    </tr>\n",
       "    <tr>\n",
       "      <th>13</th>\n",
       "      <td>5fb555</td>\n",
       "      <td>2019-07-29 01:07:24</td>\n",
       "      <td>registration</td>\n",
       "      <td>NaN</td>\n",
       "      <td>31</td>\n",
       "    </tr>\n",
       "    <tr>\n",
       "      <th>14</th>\n",
       "      <td>37fa41</td>\n",
       "      <td>2019-07-29 01:10:32</td>\n",
       "      <td>registration</td>\n",
       "      <td>NaN</td>\n",
       "      <td>31</td>\n",
       "    </tr>\n",
       "    <tr>\n",
       "      <th>15</th>\n",
       "      <td>b5787e</td>\n",
       "      <td>2019-07-29 01:11:22</td>\n",
       "      <td>registration</td>\n",
       "      <td>NaN</td>\n",
       "      <td>31</td>\n",
       "    </tr>\n",
       "    <tr>\n",
       "      <th>16</th>\n",
       "      <td>b2e16e</td>\n",
       "      <td>2019-07-29 01:14:16</td>\n",
       "      <td>registration</td>\n",
       "      <td>NaN</td>\n",
       "      <td>31</td>\n",
       "    </tr>\n",
       "    <tr>\n",
       "      <th>17</th>\n",
       "      <td>ca3c58</td>\n",
       "      <td>2019-07-29 01:18:51</td>\n",
       "      <td>registration</td>\n",
       "      <td>NaN</td>\n",
       "      <td>31</td>\n",
       "    </tr>\n",
       "    <tr>\n",
       "      <th>18</th>\n",
       "      <td>bea18b</td>\n",
       "      <td>2019-07-29 01:41:59</td>\n",
       "      <td>registration</td>\n",
       "      <td>NaN</td>\n",
       "      <td>31</td>\n",
       "    </tr>\n",
       "    <tr>\n",
       "      <th>19</th>\n",
       "      <td>48cac1</td>\n",
       "      <td>2019-07-29 01:42:46</td>\n",
       "      <td>registration</td>\n",
       "      <td>NaN</td>\n",
       "      <td>31</td>\n",
       "    </tr>\n",
       "  </tbody>\n",
       "</table>\n",
       "</div>"
      ],
      "text/plain": [
       "   user_id          event_date    event_type  purchase_amount  week\n",
       "0   c40e6a 2019-07-29 00:02:15  registration              NaN    31\n",
       "1   a2b682 2019-07-29 00:04:46  registration              NaN    31\n",
       "2   9ac888 2019-07-29 00:13:22  registration              NaN    31\n",
       "3   93ff22 2019-07-29 00:16:47  registration              NaN    31\n",
       "4   65ef85 2019-07-29 00:19:23  registration              NaN    31\n",
       "5   90852e 2019-07-29 00:21:16  registration              NaN    31\n",
       "6   357151 2019-07-29 00:25:53  registration              NaN    31\n",
       "7   71ac11 2019-07-29 00:28:51  registration              NaN    31\n",
       "8   af679d 2019-07-29 00:30:46  registration              NaN    31\n",
       "9   a48f29 2019-07-29 00:41:54  registration              NaN    31\n",
       "10  b65930 2019-07-29 00:47:22  registration              NaN    31\n",
       "11  956ad6 2019-07-29 00:54:13  registration              NaN    31\n",
       "12  8aa5b4 2019-07-29 00:58:22  registration              NaN    31\n",
       "13  5fb555 2019-07-29 01:07:24  registration              NaN    31\n",
       "14  37fa41 2019-07-29 01:10:32  registration              NaN    31\n",
       "15  b5787e 2019-07-29 01:11:22  registration              NaN    31\n",
       "16  b2e16e 2019-07-29 01:14:16  registration              NaN    31\n",
       "17  ca3c58 2019-07-29 01:18:51  registration              NaN    31\n",
       "18  bea18b 2019-07-29 01:41:59  registration              NaN    31\n",
       "19  48cac1 2019-07-29 01:42:46  registration              NaN    31"
      ]
     },
     "execution_count": 23,
     "metadata": {},
     "output_type": "execute_result"
    }
   ],
   "source": [
    "dfe.head(20)"
   ]
  },
  {
   "cell_type": "markdown",
   "metadata": {},
   "source": [
    "### 3. How many unique users in the cohort with ID 33?"
   ]
  },
  {
   "cell_type": "code",
   "execution_count": 62,
   "metadata": {},
   "outputs": [
    {
     "data": {
      "text/plain": [
       "18144"
      ]
     },
     "execution_count": 62,
     "metadata": {},
     "output_type": "execute_result"
    }
   ],
   "source": [
    "dfe[dfe.week == 33].shape[0]"
   ]
  },
  {
   "cell_type": "markdown",
   "metadata": {},
   "source": [
    "### Answer is 18144 unique users"
   ]
  },
  {
   "cell_type": "markdown",
   "metadata": {},
   "source": [
    "#"
   ]
  },
  {
   "cell_type": "markdown",
   "metadata": {},
   "source": [
    "### 4. For each event, highlight the indicator lifetime - the weekly lifetime of the cohort. The lifetime indicator is calculated based on the serial number of the week in which the event  is committed, relative to the week of registration. For example, an event committed on August 3 by a user from a cohort of registrants at 31 weeks will be committed on the zero week of lifetime, and an event committed by the same user on August 5 will be committed on the first week of lifetime)."
   ]
  },
  {
   "cell_type": "code",
   "execution_count": 59,
   "metadata": {},
   "outputs": [],
   "source": [
    "# grouping user_id and event type to get unique entries for each\n",
    "df_lifetime = dfe.groupby([\"week\",\"user_id\", \"event_type\"]).count()"
   ]
  },
  {
   "cell_type": "code",
   "execution_count": 61,
   "metadata": {},
   "outputs": [],
   "source": [
    "df_lifetime.reset_index(inplace=True)"
   ]
  },
  {
   "cell_type": "code",
   "execution_count": 62,
   "metadata": {},
   "outputs": [],
   "source": [
    "df_lifetime[\"lifetime\"] = 0"
   ]
  },
  {
   "cell_type": "code",
   "execution_count": 66,
   "metadata": {},
   "outputs": [
    {
     "name": "stderr",
     "output_type": "stream",
     "text": [
      "/tmp/ipykernel_33527/2476522679.py:6: SettingWithCopyWarning: \n",
      "A value is trying to be set on a copy of a slice from a DataFrame\n",
      "\n",
      "See the caveats in the documentation: https://pandas.pydata.org/pandas-docs/stable/user_guide/indexing.html#returning-a-view-versus-a-copy\n",
      "  df_lifetime[\"lifetime\"][i] = n\n"
     ]
    }
   ],
   "source": [
    "# getting the lifetime count for each user per event type\n",
    "some_list = list()\n",
    "for i, v in df_lifetime.iterrows():\n",
    "    temp_list = [v[\"user_id\"], v[\"event_type\"]]\n",
    "    if temp_list in some_list:\n",
    "        n = some_list.count(temp_list)\n",
    "        df_lifetime[\"lifetime\"][i] = n\n",
    "        some_list.append(temp_list)\n",
    "    else:\n",
    "        df_lifetime[\"lifetime\"][i] == 0\n",
    "        some_list.append(temp_list)"
   ]
  },
  {
   "cell_type": "code",
   "execution_count": 75,
   "metadata": {},
   "outputs": [],
   "source": [
    "df_lifetime = df_lifetime[[\"week\", \"user_id\", \"event_type\",\"lifetime\"]]"
   ]
  },
  {
   "cell_type": "markdown",
   "metadata": {},
   "source": [
    "### Result of Operation"
   ]
  },
  {
   "cell_type": "code",
   "execution_count": 79,
   "metadata": {},
   "outputs": [
    {
     "data": {
      "text/html": [
       "<div>\n",
       "<style scoped>\n",
       "    .dataframe tbody tr th:only-of-type {\n",
       "        vertical-align: middle;\n",
       "    }\n",
       "\n",
       "    .dataframe tbody tr th {\n",
       "        vertical-align: top;\n",
       "    }\n",
       "\n",
       "    .dataframe thead th {\n",
       "        text-align: right;\n",
       "    }\n",
       "</style>\n",
       "<table border=\"1\" class=\"dataframe\">\n",
       "  <thead>\n",
       "    <tr style=\"text-align: right;\">\n",
       "      <th></th>\n",
       "      <th>week</th>\n",
       "      <th>user_id</th>\n",
       "      <th>event_type</th>\n",
       "      <th>lifetime</th>\n",
       "    </tr>\n",
       "  </thead>\n",
       "  <tbody>\n",
       "    <tr>\n",
       "      <th>17794</th>\n",
       "      <td>34</td>\n",
       "      <td>00049f</td>\n",
       "      <td>simple_event</td>\n",
       "      <td>0</td>\n",
       "    </tr>\n",
       "    <tr>\n",
       "      <th>17795</th>\n",
       "      <td>34</td>\n",
       "      <td>00082c</td>\n",
       "      <td>simple_event</td>\n",
       "      <td>3</td>\n",
       "    </tr>\n",
       "    <tr>\n",
       "      <th>17796</th>\n",
       "      <td>34</td>\n",
       "      <td>001d5d</td>\n",
       "      <td>registration</td>\n",
       "      <td>0</td>\n",
       "    </tr>\n",
       "    <tr>\n",
       "      <th>17797</th>\n",
       "      <td>34</td>\n",
       "      <td>002195</td>\n",
       "      <td>simple_event</td>\n",
       "      <td>1</td>\n",
       "    </tr>\n",
       "    <tr>\n",
       "      <th>17798</th>\n",
       "      <td>34</td>\n",
       "      <td>004304</td>\n",
       "      <td>registration</td>\n",
       "      <td>0</td>\n",
       "    </tr>\n",
       "    <tr>\n",
       "      <th>17799</th>\n",
       "      <td>34</td>\n",
       "      <td>004cd2</td>\n",
       "      <td>simple_event</td>\n",
       "      <td>1</td>\n",
       "    </tr>\n",
       "    <tr>\n",
       "      <th>17800</th>\n",
       "      <td>34</td>\n",
       "      <td>004dc9</td>\n",
       "      <td>simple_event</td>\n",
       "      <td>1</td>\n",
       "    </tr>\n",
       "    <tr>\n",
       "      <th>17801</th>\n",
       "      <td>34</td>\n",
       "      <td>004fcb</td>\n",
       "      <td>simple_event</td>\n",
       "      <td>0</td>\n",
       "    </tr>\n",
       "    <tr>\n",
       "      <th>17802</th>\n",
       "      <td>34</td>\n",
       "      <td>00505f</td>\n",
       "      <td>simple_event</td>\n",
       "      <td>3</td>\n",
       "    </tr>\n",
       "    <tr>\n",
       "      <th>17803</th>\n",
       "      <td>34</td>\n",
       "      <td>006139</td>\n",
       "      <td>purchase</td>\n",
       "      <td>0</td>\n",
       "    </tr>\n",
       "    <tr>\n",
       "      <th>17804</th>\n",
       "      <td>34</td>\n",
       "      <td>006139</td>\n",
       "      <td>registration</td>\n",
       "      <td>0</td>\n",
       "    </tr>\n",
       "    <tr>\n",
       "      <th>17805</th>\n",
       "      <td>34</td>\n",
       "      <td>006139</td>\n",
       "      <td>simple_event</td>\n",
       "      <td>0</td>\n",
       "    </tr>\n",
       "    <tr>\n",
       "      <th>17806</th>\n",
       "      <td>34</td>\n",
       "      <td>006657</td>\n",
       "      <td>simple_event</td>\n",
       "      <td>0</td>\n",
       "    </tr>\n",
       "    <tr>\n",
       "      <th>17807</th>\n",
       "      <td>34</td>\n",
       "      <td>00675c</td>\n",
       "      <td>purchase</td>\n",
       "      <td>0</td>\n",
       "    </tr>\n",
       "    <tr>\n",
       "      <th>17808</th>\n",
       "      <td>34</td>\n",
       "      <td>00675c</td>\n",
       "      <td>registration</td>\n",
       "      <td>0</td>\n",
       "    </tr>\n",
       "    <tr>\n",
       "      <th>17809</th>\n",
       "      <td>34</td>\n",
       "      <td>00675c</td>\n",
       "      <td>simple_event</td>\n",
       "      <td>0</td>\n",
       "    </tr>\n",
       "    <tr>\n",
       "      <th>17810</th>\n",
       "      <td>34</td>\n",
       "      <td>006867</td>\n",
       "      <td>simple_event</td>\n",
       "      <td>0</td>\n",
       "    </tr>\n",
       "    <tr>\n",
       "      <th>17811</th>\n",
       "      <td>34</td>\n",
       "      <td>0069d0</td>\n",
       "      <td>purchase</td>\n",
       "      <td>0</td>\n",
       "    </tr>\n",
       "    <tr>\n",
       "      <th>17812</th>\n",
       "      <td>34</td>\n",
       "      <td>0069d0</td>\n",
       "      <td>simple_event</td>\n",
       "      <td>1</td>\n",
       "    </tr>\n",
       "    <tr>\n",
       "      <th>17813</th>\n",
       "      <td>34</td>\n",
       "      <td>006f31</td>\n",
       "      <td>registration</td>\n",
       "      <td>0</td>\n",
       "    </tr>\n",
       "  </tbody>\n",
       "</table>\n",
       "</div>"
      ],
      "text/plain": [
       "       week user_id    event_type  lifetime\n",
       "17794    34  00049f  simple_event         0\n",
       "17795    34  00082c  simple_event         3\n",
       "17796    34  001d5d  registration         0\n",
       "17797    34  002195  simple_event         1\n",
       "17798    34  004304  registration         0\n",
       "17799    34  004cd2  simple_event         1\n",
       "17800    34  004dc9  simple_event         1\n",
       "17801    34  004fcb  simple_event         0\n",
       "17802    34  00505f  simple_event         3\n",
       "17803    34  006139      purchase         0\n",
       "17804    34  006139  registration         0\n",
       "17805    34  006139  simple_event         0\n",
       "17806    34  006657  simple_event         0\n",
       "17807    34  00675c      purchase         0\n",
       "17808    34  00675c  registration         0\n",
       "17809    34  00675c  simple_event         0\n",
       "17810    34  006867  simple_event         0\n",
       "17811    34  0069d0      purchase         0\n",
       "17812    34  0069d0  simple_event         1\n",
       "17813    34  006f31  registration         0"
      ]
     },
     "execution_count": 79,
     "metadata": {},
     "output_type": "execute_result"
    }
   ],
   "source": [
    "df_lifetime[df_lifetime[\"week\"] == 34].head(20)"
   ]
  },
  {
   "cell_type": "markdown",
   "metadata": {},
   "source": [
    "### 5. Build a summary table of changes in the Retention Rate for cohorts depending on lifetime."
   ]
  },
  {
   "cell_type": "code",
   "execution_count": 82,
   "metadata": {},
   "outputs": [
    {
     "data": {
      "text/html": [
       "<div>\n",
       "<style scoped>\n",
       "    .dataframe tbody tr th:only-of-type {\n",
       "        vertical-align: middle;\n",
       "    }\n",
       "\n",
       "    .dataframe tbody tr th {\n",
       "        vertical-align: top;\n",
       "    }\n",
       "\n",
       "    .dataframe thead th {\n",
       "        text-align: right;\n",
       "    }\n",
       "</style>\n",
       "<table border=\"1\" class=\"dataframe\">\n",
       "  <thead>\n",
       "    <tr style=\"text-align: right;\">\n",
       "      <th></th>\n",
       "      <th>week</th>\n",
       "    </tr>\n",
       "  </thead>\n",
       "  <tbody>\n",
       "    <tr>\n",
       "      <th>35</th>\n",
       "      <td>9278</td>\n",
       "    </tr>\n",
       "    <tr>\n",
       "      <th>34</th>\n",
       "      <td>8730</td>\n",
       "    </tr>\n",
       "    <tr>\n",
       "      <th>33</th>\n",
       "      <td>7871</td>\n",
       "    </tr>\n",
       "    <tr>\n",
       "      <th>32</th>\n",
       "      <td>6166</td>\n",
       "    </tr>\n",
       "    <tr>\n",
       "      <th>31</th>\n",
       "      <td>3757</td>\n",
       "    </tr>\n",
       "  </tbody>\n",
       "</table>\n",
       "</div>"
      ],
      "text/plain": [
       "    week\n",
       "35  9278\n",
       "34  8730\n",
       "33  7871\n",
       "32  6166\n",
       "31  3757"
      ]
     },
     "execution_count": 82,
     "metadata": {},
     "output_type": "execute_result"
    }
   ],
   "source": [
    "retention_count = df_lifetime[\"week\"].value_counts().to_frame()\n",
    "retention_count"
   ]
  },
  {
   "cell_type": "code",
   "execution_count": 102,
   "metadata": {},
   "outputs": [
    {
     "data": {
      "text/html": [
       "<div>\n",
       "<style scoped>\n",
       "    .dataframe tbody tr th:only-of-type {\n",
       "        vertical-align: middle;\n",
       "    }\n",
       "\n",
       "    .dataframe tbody tr th {\n",
       "        vertical-align: top;\n",
       "    }\n",
       "\n",
       "    .dataframe thead th {\n",
       "        text-align: right;\n",
       "    }\n",
       "</style>\n",
       "<table border=\"1\" class=\"dataframe\">\n",
       "  <thead>\n",
       "    <tr style=\"text-align: right;\">\n",
       "      <th></th>\n",
       "      <th>lifetime</th>\n",
       "    </tr>\n",
       "    <tr>\n",
       "      <th>week</th>\n",
       "      <th></th>\n",
       "    </tr>\n",
       "  </thead>\n",
       "  <tbody>\n",
       "    <tr>\n",
       "      <th>32</th>\n",
       "      <td>1420</td>\n",
       "    </tr>\n",
       "    <tr>\n",
       "      <th>33</th>\n",
       "      <td>2812</td>\n",
       "    </tr>\n",
       "    <tr>\n",
       "      <th>34</th>\n",
       "      <td>3710</td>\n",
       "    </tr>\n",
       "    <tr>\n",
       "      <th>35</th>\n",
       "      <td>4102</td>\n",
       "    </tr>\n",
       "  </tbody>\n",
       "</table>\n",
       "</div>"
      ],
      "text/plain": [
       "      lifetime\n",
       "week          \n",
       "32        1420\n",
       "33        2812\n",
       "34        3710\n",
       "35        4102"
      ]
     },
     "execution_count": 102,
     "metadata": {},
     "output_type": "execute_result"
    }
   ],
   "source": [
    "df_retention = df_lifetime[df_lifetime.lifetime > 0].copy()\n",
    "df_retention = df_retention.groupby(\"week\")[\"lifetime\"].count().to_frame()\n",
    "df_retention"
   ]
  },
  {
   "cell_type": "code",
   "execution_count": 98,
   "metadata": {},
   "outputs": [
    {
     "data": {
      "text/plain": [
       "[1, 6, 4, 2]"
      ]
     },
     "execution_count": 98,
     "metadata": {},
     "output_type": "execute_result"
    }
   ],
   "source": [
    "b = [2,4,6,1]\n",
    "b[::-1]"
   ]
  },
  {
   "cell_type": "code",
   "execution_count": 103,
   "metadata": {},
   "outputs": [
    {
     "data": {
      "text/plain": [
       "[3757, 6166, 7871, 8730, 9278]"
      ]
     },
     "execution_count": 103,
     "metadata": {},
     "output_type": "execute_result"
    }
   ],
   "source": [
    "sum_lifetime = df_retention.lifetime.to_list()\n",
    "count_lifetime = list(retention_count.week.to_list())\n",
    "count_lifetime = count_lifetime[::-1]\n",
    "count_lifetime"
   ]
  },
  {
   "cell_type": "code",
   "execution_count": 104,
   "metadata": {},
   "outputs": [],
   "source": [
    "count = 0\n",
    "reten = list()\n",
    "for n, z in zip(sum_lifetime, count_lifetime[1:]):\n",
    "    if n == 0:\n",
    "        reten.append(100.0)\n",
    "        count += 1\n",
    "        continue\n",
    "    percentage = (n/z) * 100\n",
    "    reten.append(percentage)\n",
    "    "
   ]
  },
  {
   "cell_type": "code",
   "execution_count": 105,
   "metadata": {},
   "outputs": [
    {
     "data": {
      "text/plain": [
       "[23.029516704508595, 35.726083089823405, 42.4971363115693, 44.21211467988791]"
      ]
     },
     "execution_count": 105,
     "metadata": {},
     "output_type": "execute_result"
    }
   ],
   "source": [
    "reten"
   ]
  },
  {
   "cell_type": "code",
   "execution_count": 122,
   "metadata": {},
   "outputs": [
    {
     "data": {
      "text/html": [
       "<div>\n",
       "<style scoped>\n",
       "    .dataframe tbody tr th:only-of-type {\n",
       "        vertical-align: middle;\n",
       "    }\n",
       "\n",
       "    .dataframe tbody tr th {\n",
       "        vertical-align: top;\n",
       "    }\n",
       "\n",
       "    .dataframe thead th {\n",
       "        text-align: right;\n",
       "    }\n",
       "</style>\n",
       "<table border=\"1\" class=\"dataframe\">\n",
       "  <thead>\n",
       "    <tr style=\"text-align: right;\">\n",
       "      <th></th>\n",
       "      <th>week</th>\n",
       "      <th>retention_rate</th>\n",
       "    </tr>\n",
       "  </thead>\n",
       "  <tbody>\n",
       "    <tr>\n",
       "      <th>0</th>\n",
       "      <td>32</td>\n",
       "      <td>23.029517</td>\n",
       "    </tr>\n",
       "    <tr>\n",
       "      <th>1</th>\n",
       "      <td>33</td>\n",
       "      <td>35.726083</td>\n",
       "    </tr>\n",
       "    <tr>\n",
       "      <th>2</th>\n",
       "      <td>34</td>\n",
       "      <td>42.497136</td>\n",
       "    </tr>\n",
       "    <tr>\n",
       "      <th>3</th>\n",
       "      <td>35</td>\n",
       "      <td>44.212115</td>\n",
       "    </tr>\n",
       "  </tbody>\n",
       "</table>\n",
       "</div>"
      ],
      "text/plain": [
       "   week  retention_rate\n",
       "0    32       23.029517\n",
       "1    33       35.726083\n",
       "2    34       42.497136\n",
       "3    35       44.212115"
      ]
     },
     "execution_count": 122,
     "metadata": {},
     "output_type": "execute_result"
    }
   ],
   "source": [
    "# Summary table of retention\n",
    "retention_summary = pd.DataFrame({\n",
    "    \"week\": [32,33,34,35],\n",
    "    \"retention_rate\": reten\n",
    "})\n",
    "\n",
    "retention_summary"
   ]
  },
  {
   "cell_type": "markdown",
   "metadata": {},
   "source": [
    "### 9. What is the median time between user registration and first purchase? Give the answer in seconds (!) As an integer."
   ]
  },
  {
   "cell_type": "code",
   "execution_count": 106,
   "metadata": {},
   "outputs": [],
   "source": [
    "# getting timestamp for each user from user from initial point of registration\n",
    "some_dict = dict()\n",
    "for i, v in dfe.iterrows():\n",
    "    if v[\"user_id\"] not in some_dict.keys():\n",
    "        some_dict[v[\"user_id\"]] = [v[\"event_date\"]]\n",
    "    if v[\"user_id\"] in some_dict.keys():\n",
    "        if v[\"event_type\"] == \"purchase\":\n",
    "            some_dict[v[\"user_id\"]].append(v[\"event_date\"])"
   ]
  },
  {
   "cell_type": "code",
   "execution_count": 112,
   "metadata": {},
   "outputs": [],
   "source": [
    "time_to_purchase = list(some_dict.values())"
   ]
  },
  {
   "cell_type": "code",
   "execution_count": 119,
   "metadata": {},
   "outputs": [],
   "source": [
    "# calculating time difference \n",
    "time_diff = list()\n",
    "for t in time_to_purchase:\n",
    "    if len(t) >= 2:\n",
    "        diff = t[0] - t[1]\n",
    "        time_diff.append(diff)"
   ]
  },
  {
   "cell_type": "code",
   "execution_count": 121,
   "metadata": {},
   "outputs": [
    {
     "data": {
      "text/plain": [
       "Timedelta('-6 days +23:13:46')"
      ]
     },
     "execution_count": 121,
     "metadata": {},
     "output_type": "execute_result"
    }
   ],
   "source": [
    "# Median value\n",
    "np.median(time_diff)"
   ]
  },
  {
   "cell_type": "markdown",
   "metadata": {},
   "source": [
    "### Median time between registration and purchase is 6 days +23:13:46\n",
    "\n",
    "### In seconds: 602, 026"
   ]
  },
  {
   "cell_type": "markdown",
   "metadata": {},
   "source": [
    "518400\n",
    "82800\n",
    "780\n",
    "46"
   ]
  },
  {
   "cell_type": "markdown",
   "metadata": {},
   "source": [
    "##"
   ]
  },
  {
   "cell_type": "markdown",
   "metadata": {},
   "source": [
    "## Task 3 - 30 Minutes\n",
    "How would you answer the student's question below? Your task is to get your message across in such a way that a beginner can understand your explanation. You can do this any way you want (pictures, GIFs, metaphors, anything) so long as it makes your explanation clear.\n",
    "Answer the question: \"What is the difference between DataFrame and Series?\"\n",
    "Indicate how much time you spent completing this task."
   ]
  },
  {
   "cell_type": "markdown",
   "metadata": {},
   "source": [
    "### Answer\n",
    "The python programming Language has a library called Pandas and Pandas is a powerful tool to handle various data formats. Pandas provides two data structures that it shapes or processes data into human readable form; these are the DataFrame and Series.\n",
    "One major difference lies between a DataFrame and a Series.\n",
    "A series is a one-dimensional data structure, whereas a dataframe is a two-dimensional data structure.\n",
    "\n",
    "Take a vending machine for example; a series data structure is like a vending machine that can only give you a chocolate bar at a time as compared to a vending machine that can give you up to three or four chocolate bars at once. Cool right?\n",
    "You can also see a series as a number of pairs having keys and values and a DataFrame can be similar to that of a spreadsheet. Below is a visual representation of series and DataFrames.\n",
    "\n",
    "![alt text for screen readers](df_and_series.jpeg \"Series and DataFrames\")\n",
    "\n",
    "You can also view a DataFrame as a combination of Series"
   ]
  },
  {
   "cell_type": "markdown",
   "metadata": {},
   "source": [
    "## Task 4 - 1 hour"
   ]
  },
  {
   "cell_type": "markdown",
   "metadata": {},
   "source": [
    "You are given two random variables X and Y.\n",
    "E(X) = 0.5, Var(X) = 2\n",
    "E(Y) = 7, Var(Y) = 3.5\n",
    "cov (X, Y) = -0.8\n",
    "Find the variance of the random variable Z = 2X - 3Y"
   ]
  },
  {
   "cell_type": "markdown",
   "metadata": {},
   "source": [
    "### Solution\n",
    "\n",
    "First, using the formula for variance of the linear combination of two variables x and y\n",
    "given as \n",
    "\n",
    "$ Var(aX + bY) = a^2Var(X) + b^2Var(Y) + 2abCov(X,Y)$\n",
    "\n",
    "Going by the above formula and substituting in the appropraite values:\n",
    "\n",
    "$ Var(Z) = Var(2X - 3Y) = 2^2Var(X) + 3^2Var(Y) + 2 * 3 * 2Cov(X, Y) $\n",
    "\n",
    "Substituting known values Var(X) = 2, Var(Y) = 3.5, cov(X,Y) = -0.8:\n",
    "\n",
    "$ Var(Z) = (4 * 2) + (9 * 3.5) + 12(-0.8) $\n",
    "\n",
    "$ Var(z) = 8 + 31.5 - 9.6 $\n",
    "\n",
    "$ Var(z) = 29.9 $\n",
    "\n",
    "Hence Variance $ Var(aX + bY) = Var(Z) = 29.9$\n"
   ]
  },
  {
   "cell_type": "markdown",
   "metadata": {},
   "source": [
    "## Task 5 - 1 hour"
   ]
  },
  {
   "cell_type": "markdown",
   "metadata": {},
   "source": [
    "Omer trained a linear regression model and tested its performance on a test sample of 500\n",
    "objects. On 400 of those, the model returned a prediction higher than expected by 0.5, and on\n",
    "the remaining 100, the model returned a prediction lower than expected by 0.7.\n",
    "What is the MSE for his model?\n",
    "Limor claims that the linear regression model wasn't trained correctly, and we can do improve\n",
    "it by changing all the answers by a constant value. What will be her MSE?\n",
    "You can assume that Limor found the smallest error under her constraints.\n",
    "Return two values - Omer's and Limor's MSE."
   ]
  },
  {
   "cell_type": "markdown",
   "metadata": {},
   "source": [
    "### Solution\n",
    "taking the error on the first 400 as 0.5 and on the remaining 100 as 0.7\n",
    "we can assume from the formula given as:\n",
    "\n",
    "$$ MSE = \\dfrac{1}{n} \\sum(y_t - y_p)^2$$\n",
    "\n",
    "Total sample = 500\n",
    "$$ MSE = \\dfrac{1}{500} \\sum 400(0.5)^2 + 100(0.7)^2$$\n",
    "\n",
    "$$ MSE = \\dfrac{1}{500} \\sum (100 + 49)$$\n",
    "\n",
    "$$ MSE = 0.298$$\n",
    "\n",
    "\n",
    "The MSE assuming constant error across all values is 0.298\n",
    "\n",
    "However, further information needs to be provided to further determine Limor's theory"
   ]
  },
  {
   "cell_type": "code",
   "execution_count": null,
   "metadata": {},
   "outputs": [],
   "source": []
  }
 ],
 "metadata": {
  "kernelspec": {
   "display_name": "Python 3 (ipykernel)",
   "language": "python",
   "name": "python3"
  },
  "language_info": {
   "codemirror_mode": {
    "name": "ipython",
    "version": 3
   },
   "file_extension": ".py",
   "mimetype": "text/x-python",
   "name": "python",
   "nbconvert_exporter": "python",
   "pygments_lexer": "ipython3",
   "version": "3.10.6 (main, Nov  2 2022, 18:53:38) [GCC 11.3.0]"
  },
  "vscode": {
   "interpreter": {
    "hash": "916dbcbb3f70747c44a77c7bcd40155683ae19c65e1c03b4aa3499c5328201f1"
   }
  }
 },
 "nbformat": 4,
 "nbformat_minor": 2
}
